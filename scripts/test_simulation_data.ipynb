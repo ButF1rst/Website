{
 "cells": [
  {
   "cell_type": "code",
   "execution_count": 1,
   "id": "9f37b26c",
   "metadata": {},
   "outputs": [
    {
     "name": "stderr",
     "output_type": "stream",
     "text": [
      "C:\\Users\\AUKA\\anaconda3\\lib\\site-packages\\pandas\\core\\computation\\expressions.py:21: UserWarning: Pandas requires version '2.8.4' or newer of 'numexpr' (version '2.7.3' currently installed).\n",
      "  from pandas.core.computation.check import NUMEXPR_INSTALLED\n",
      "C:\\Users\\AUKA\\anaconda3\\lib\\site-packages\\pandas\\core\\arrays\\masked.py:60: UserWarning: Pandas requires version '1.3.6' or newer of 'bottleneck' (version '1.3.2' currently installed).\n",
      "  from pandas.core import (\n"
     ]
    }
   ],
   "source": [
    "import pytest\n",
    "import pandas as pd\n",
    "import numpy as np\n",
    "\n",
    "# Loading the simulated data\n",
    "@pytest.fixture\n",
    "def simulation_data():\n",
    "    # Loading data from the CSV file\n",
    "    data = pd.read_csv(\"SimulationData.csv\")\n",
    "    return data\n",
    "\n",
    "#Checking if the dataset has the correct number of rows and columns\n",
    "def test_data_shape(simulation_data):\n",
    "    data = simulation_data\n",
    "    expected_columns = [\n",
    "        'frontline_prev_best', 'noncombat_prev_best', 'lead_prev_best',\n",
    "        'frontline', 'noncombat', 'lead', \n",
    "        'linear_predictor', 'participation_prob', 'participation'\n",
    "    ]\n",
    "    assert data.shape[1] == len(expected_columns), \"Unexpected number of columns\"\n",
    "    assert data.shape[0] > 0, \"Dataset should have rows\"\n",
    "\n",
    "# Validating column data types\n",
    "def test_column_data_types(simulation_data):\n",
    "    data = simulation_data\n",
    "    expected_types = {\n",
    "        'frontline_prev_best': 'int64',\n",
    "        'noncombat_prev_best': 'int64',\n",
    "        'lead_prev_best': 'int64',\n",
    "        'frontline': 'int64',\n",
    "        'noncombat': 'int64',\n",
    "        'lead': 'int64',\n",
    "        'linear_predictor': 'float64',\n",
    "        'participation_prob': 'float64',\n",
    "        'participation': 'int64',\n",
    "    }\n",
    "    for col, dtype in expected_types.items():\n",
    "        assert data[col].dtype == dtype, f\"Column {col} has incorrect type\"\n",
    "\n",
    "# TCheck ranges for ordinal variables\n",
    "def test_ordinal_variable_ranges(simulation_data):\n",
    "    data = simulation_data\n",
    "    for col in ['frontline_prev_best', 'noncombat_prev_best', 'lead_prev_best']:\n",
    "        assert data[col].between(0, 4).all(), f\"{col} values out of range\"\n",
    "\n",
    "# Test 4: Check binary variables are 0 or 1\n",
    "def test_binary_variables(simulation_data):\n",
    "    data = simulation_data\n",
    "    binary_columns = ['frontline', 'noncombat', 'lead', 'participation']\n",
    "    for col in binary_columns:\n",
    "        assert data[col].isin([0, 1]).all(), f\"{col} has non-binary values\"\n",
    "\n",
    "# Test 5: Validate probabilities are between 0 and 1\n",
    "def test_probabilities_range(simulation_data):\n",
    "    data = simulation_data\n",
    "    assert data['participation_prob'].between(0, 1).all(), \"Participation probabilities out of range\"\n",
    "\n",
    "# Checking correlation between predictor variables\n",
    "def test_correlation_between_variables(simulation_data):\n",
    "    data = simulation_data\n",
    "    correlation = data[['frontline_prev_best', 'lead_prev_best']].corr().iloc[0, 1]\n",
    "    assert correlation > 0.5, \"Correlation between frontline_prev_best and lead_prev_best is weak\"\n",
    "\n",
    "# Validating participation logic\n",
    "def test_participation_logic(simulation_data):\n",
    "    data = simulation_data\n",
    "    # Checking if higher predictors generally lead to higher participation\n",
    "    high_prob = data[data['participation_prob'] > 0.8]\n",
    "    assert high_prob['participation'].mean() > 0.8, \"Participation logic inconsistency for high probabilities\"\n",
    "\n",
    "# Checking for missing values\n",
    "def test_missing_values(simulation_data):\n",
    "    data = simulation_data\n",
    "    assert not data.isnull().values.any(), \"Dataset contains missing values\"\n"
   ]
  },
  {
   "cell_type": "code",
   "execution_count": null,
   "id": "fc892a7d",
   "metadata": {},
   "outputs": [],
   "source": []
  }
 ],
 "metadata": {
  "kernelspec": {
   "display_name": "Python 3 (ipykernel)",
   "language": "python",
   "name": "python3"
  },
  "language_info": {
   "codemirror_mode": {
    "name": "ipython",
    "version": 3
   },
   "file_extension": ".py",
   "mimetype": "text/x-python",
   "name": "python",
   "nbconvert_exporter": "python",
   "pygments_lexer": "ipython3",
   "version": "3.9.7"
  }
 },
 "nbformat": 4,
 "nbformat_minor": 5
}
